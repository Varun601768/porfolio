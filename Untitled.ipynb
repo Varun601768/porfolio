{
 "cells": [
  {
   "cell_type": "code",
   "execution_count": 1,
   "id": "12baca20-302f-4771-90be-90dbb7055189",
   "metadata": {},
   "outputs": [
    {
     "name": "stdout",
     "output_type": "stream",
     "text": [
      "✅ Audio saved as varun_intro.mp3\n"
     ]
    }
   ],
   "source": [
    "import pyttsx3\n",
    "\n",
    "# Text to convert\n",
    "text = (\"Welcome. You're listening to Varun MC—a highly skilled Software Developer and MCA Graduate. \"\n",
    "        \"Varun specializes in the innovative realms of Machine Learning, leveraging data to create \"\n",
    "        \"intelligent solutions, and is an end-to-end master of Full-Stack Development. \"\n",
    "        \"Get ready for a deep dive into tech.\")\n",
    "\n",
    "# Initialize TTS engine\n",
    "engine = pyttsx3.init()\n",
    "\n",
    "# Save audio file\n",
    "output_file = \"varun_intro.mp3\"\n",
    "engine.save_to_file(text, output_file)\n",
    "\n",
    "# Generate and save\n",
    "engine.runAndWait()\n",
    "\n",
    "print(f\"✅ Audio saved as {output_file}\")\n"
   ]
  },
  {
   "cell_type": "code",
   "execution_count": null,
   "id": "4de99da8-51e8-42d6-abdb-42046770ba13",
   "metadata": {},
   "outputs": [],
   "source": []
  }
 ],
 "metadata": {
  "kernelspec": {
   "display_name": "Python 3 (ipykernel)",
   "language": "python",
   "name": "python3"
  },
  "language_info": {
   "codemirror_mode": {
    "name": "ipython",
    "version": 3
   },
   "file_extension": ".py",
   "mimetype": "text/x-python",
   "name": "python",
   "nbconvert_exporter": "python",
   "pygments_lexer": "ipython3",
   "version": "3.12.3"
  }
 },
 "nbformat": 4,
 "nbformat_minor": 5
}
